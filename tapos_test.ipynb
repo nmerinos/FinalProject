{
 "nbformat": 4,
 "nbformat_minor": 0,
 "metadata": {
  "colab": {
   "name": "tapos_test.ipynb",
   "provenance": [],
   "collapsed_sections": []
  },
  "kernelspec": {
   "name": "python3",
   "display_name": "Python 3"
  },
  "language_info": {
   "name": "python"
  },
  "accelerator": "GPU"
 },
 "cells": [
  {
   "cell_type": "markdown",
   "metadata": {
    "id": "VE8woCefQRLy"
   },
   "source": [
    "Step 1: Zip the gatech_deep_final folder\n",
    "Step 2: Create the notebook in colab with this code\n",
    "Step 3: Run the notebook"
   ]
  },
  {
   "cell_type": "code",
   "metadata": {
    "id": "yzLbcxYdGOHw"
   },
   "source": [
    "!pip install -U adapter-transformers\n",
    "!pip install datasets"
   ],
   "execution_count": null,
   "outputs": []
  },
  {
   "cell_type": "markdown",
   "source": [
    "[Testing if cuda is enabled](https://stackoverflow.com/questions/50560395/how-to-install-cuda-in-google-colab-gpus)"
   ],
   "metadata": {
    "collapsed": false
   }
  },
  {
   "cell_type": "markdown",
   "metadata": {
    "id": "glJwzHRovKiJ"
   },
   "source": [
    "!nvidia-smi"
   ]
  },
  {
   "cell_type": "code",
   "metadata": {
    "id": "xNFDoBeyuTEY"
   },
   "source": [
    "!nvidia-smi"
   ],
   "execution_count": null,
   "outputs": []
  },
  {
   "cell_type": "code",
   "metadata": {
    "id": "UFMdJw1auixg"
   },
   "source": [
    "import torch\n",
    "torch.cuda.is_available()"
   ],
   "execution_count": null,
   "outputs": []
  },
  {
   "cell_type": "code",
   "metadata": {
    "id": "bxevpGGTuxv8"
   },
   "source": [
    "import tensorflow as tf\n",
    "tf.test.gpu_device_name()"
   ],
   "execution_count": null,
   "outputs": []
  },
  {
   "cell_type": "code",
   "metadata": {
    "id": "2XWMTFHYBR_0"
   },
   "source": [
    "import zipfile\n",
    "with zipfile.ZipFile('gatech_deep_final.zip', 'r') as zip_ref:\n",
    "    zip_ref.extractall()"
   ],
   "execution_count": 1,
   "outputs": []
  },
  {
   "cell_type": "code",
   "metadata": {
    "id": "bzfUfFO7GFYs"
   },
   "source": [
    "%run ./gatech_deep_final/run_multiple_choice.py \\\n",
    "--task_name swag \\\n",
    "--model_name_or_path roberta-base \\\n",
    "--do_train \\\n",
    "--do_eval \\\n",
    "--data_dir ./gatech_deep_final/data/swag/ \\\n",
    "--learning_rate 5e-5 \\\n",
    "--num_train_epochs 3 \\\n",
    "--max_seq_length 80 \\\n",
    "--output_dir ./gatech_deep_final/output \\\n",
    "--per_gpu_eval_batch_size=16 \\\n",
    "--per_gpu_train_batch_size=16 \\\n",
    "--gradient_accumulation_steps 2 \\\n",
    "--overwrite_output\n"
   ],
   "execution_count": null,
   "outputs": []
  }
 ]
}